{
 "cells": [
  {
   "cell_type": "markdown",
   "metadata": {},
   "source": [
    "# Project Title: Car Accidents Analysis and Prediction\n",
    "\n",
    "\n",
    "# Introduction\n",
    "## Every year, we heard about many car accidents from the news regardless the accident type or reason. The accident  location, cause, and number of injury/fatal are vary. In fact, my family and I had few car accidents before but fortunately they were minor. In this day, car is a such common transportation in US. Almost everyone will use it for business or personal travel everyday. Therefore, it is so important to understand the causes of accidents in the past to help us improving our driving safety and minimize the number of injury, and even build the accident prediction model to help preventing the accident.\n",
    "\n"
   ]
  },
  {
   "cell_type": "code",
   "execution_count": null,
   "metadata": {},
   "outputs": [],
   "source": []
  }
 ],
 "metadata": {
  "kernelspec": {
   "display_name": "Python 3",
   "language": "python",
   "name": "python3"
  },
  "language_info": {
   "codemirror_mode": {
    "name": "ipython",
    "version": 3
   },
   "file_extension": ".py",
   "mimetype": "text/x-python",
   "name": "python",
   "nbconvert_exporter": "python",
   "pygments_lexer": "ipython3",
   "version": "3.7.4"
  }
 },
 "nbformat": 4,
 "nbformat_minor": 2
}
