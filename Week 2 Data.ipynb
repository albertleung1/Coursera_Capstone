{
 "cells": [
  {
   "cell_type": "markdown",
   "metadata": {},
   "source": [
    "# Project Title: Car Accidents Analysis and Prediction\n",
    "\n",
    "\n",
    "# Introduction\n",
    "## Every year, we heard about many car accidents from the news regardless the accident type or reason. The accident  location, cause, and number of injury/fatal are vary. In fact, my family and I had few car accidents before but fortunately they were minor. According to the research in The Ohio State University[1], 1.25 million traffic deaths in 2013 globally and it was increased in 68 countries compared to 2010.\n",
    "\n",
    "\n",
    "## In this day, car is a such common transportation in US. Almost everyone will use it for business or personal travel everyday. Therefore, it is so important to understand the causes of accidents in the past to help us improving our driving safety and minimize the number of injury, and even build the accident prediction model to help preventing the accident. So, it is everybody's concern as long as someone drives a car around you. Hope this analysis and prediction is helpful for you and your family.\n",
    "\n",
    "\n",
    "### [1] Sobhan Moosavi, Srinivasan Parthasarathy, Mohammad Hossein Samavatian, and Rajiv Ramnath Jun 12, 2019.  A Countrywide Traffic Accident Dataset"
   ]
  },
  {
   "cell_type": "markdown",
   "metadata": {},
   "source": []
  },
  {
   "cell_type": "markdown",
   "metadata": {},
   "source": [
    "# Data\n",
    "## Here I use data from Sobhan Moosavi: US-Accidents: A Countrywide Traffic Accident Dataset.\n",
    "## Websit: https://smoosavi.org/datasets/us_accidents \n",
    "## Publish Date: July 2020\n",
    "## Description: This dataset covers 49 States of US from February 2016 to June 2020.   You can visit the above website for data description.\n",
    "## Acknowledgements:\n",
    "## Moosavi, Sobhan, Mohammad Hossein Samavatian, Srinivasan Parthasarathy, and Rajiv Ramnath. “A Countrywide Traffic Accident Dataset.”, 2019.\n"
   ]
  },
  {
   "cell_type": "code",
   "execution_count": null,
   "metadata": {},
   "outputs": [],
   "source": []
  },
  {
   "cell_type": "markdown",
   "metadata": {},
   "source": [
    "# Method\n",
    "## 1. Use regression analysis to find out the relationship between different factors, such as time, location, and weather etc. \n",
    "## 2. Use regression analysis to find out the factors affected accident severity.\n",
    "## 3. Try different machine learning methods to predict the accident location and under what conditions. \n",
    "\n"
   ]
  },
  {
   "cell_type": "code",
   "execution_count": null,
   "metadata": {},
   "outputs": [],
   "source": []
  }
 ],
 "metadata": {
  "kernelspec": {
   "display_name": "Python 3",
   "language": "python",
   "name": "python3"
  },
  "language_info": {
   "codemirror_mode": {
    "name": "ipython",
    "version": 3
   },
   "file_extension": ".py",
   "mimetype": "text/x-python",
   "name": "python",
   "nbconvert_exporter": "python",
   "pygments_lexer": "ipython3",
   "version": "3.7.4"
  }
 },
 "nbformat": 4,
 "nbformat_minor": 2
}
